{
 "cells": [
  {
   "cell_type": "code",
   "execution_count": 6,
   "id": "7bca43e2-7e8c-4949-85b3-506fad355032",
   "metadata": {},
   "outputs": [
    {
     "name": "stdin",
     "output_type": "stream",
     "text": [
      "Enter numbers separated by spaces:  2 4 6\n"
     ]
    },
    {
     "name": "stdout",
     "output_type": "stream",
     "text": [
      "Result: 46656.0\n"
     ]
    }
   ],
   "source": [
    "def calculate_power(*inputs):\n",
    "    if len(inputs) == 1:\n",
    "        return inputs[0] ** 2 \n",
    "    elif len(inputs) == 2:\n",
    "        return inputs[0] ** inputs[1] \n",
    "    else:\n",
    "        return sum(inputs[:-1]) ** inputs[-1] \n",
    "\n",
    "\n",
    "input_numbers = input(\"Enter numbers separated by spaces: \")\n",
    "numbers = list(map(float, input_numbers.split()))\n",
    "\n",
    "if numbers:\n",
    "    result = calculate_power(*numbers)\n",
    "    print(\"Result:\", result)\n",
    "else:\n",
    "    print(\"Please enter at least one number.\")"
   ]
  },
  {
   "cell_type": "code",
   "execution_count": null,
   "id": "46bc6089-b7a8-441e-9964-1826d909fb00",
   "metadata": {},
   "outputs": [],
   "source": []
  }
 ],
 "metadata": {
  "kernelspec": {
   "display_name": "Python 3 (ipykernel)",
   "language": "python",
   "name": "python3"
  },
  "language_info": {
   "codemirror_mode": {
    "name": "ipython",
    "version": 3
   },
   "file_extension": ".py",
   "mimetype": "text/x-python",
   "name": "python",
   "nbconvert_exporter": "python",
   "pygments_lexer": "ipython3",
   "version": "3.12.7"
  }
 },
 "nbformat": 4,
 "nbformat_minor": 5
}
